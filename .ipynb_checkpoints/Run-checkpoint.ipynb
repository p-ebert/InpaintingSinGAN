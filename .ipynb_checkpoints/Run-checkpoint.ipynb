{
 "cells": [
  {
   "cell_type": "code",
   "execution_count": null,
   "metadata": {
    "colab": {
     "base_uri": "https://localhost:8080/"
    },
    "executionInfo": {
     "elapsed": 21001,
     "status": "ok",
     "timestamp": 1610611495729,
     "user": {
      "displayName": "erreip trebe",
      "photoUrl": "",
      "userId": "15120267067522981901"
     },
     "user_tz": -60
    },
    "id": "4nL8bX2Ir_Fg",
    "outputId": "4fee8d49-f81f-4ff6-cb63-4aeed64d9838"
   },
   "outputs": [],
   "source": [
    "from google.colab import drive\n",
    "drive.mount('/content/gdrive', force_remount=True)"
   ]
  },
  {
   "cell_type": "code",
   "execution_count": null,
   "metadata": {
    "colab": {
     "base_uri": "https://localhost:8080/"
    },
    "executionInfo": {
     "elapsed": 115635,
     "status": "ok",
     "timestamp": 1610611614419,
     "user": {
      "displayName": "erreip trebe",
      "photoUrl": "",
      "userId": "15120267067522981901"
     },
     "user_tz": -60
    },
    "id": "wV_HCvhItAgG",
    "outputId": "126240b6-dded-4c2b-b573-43e99e8fbe75"
   },
   "outputs": [],
   "source": [
    "!python -m pip install -r /content/gdrive/My\\ Drive/InpaintingSinGAN/requirements.txt"
   ]
  },
  {
   "cell_type": "code",
   "execution_count": null,
   "metadata": {
    "id": "oWi_xQBst12X"
   },
   "outputs": [],
   "source": [
    "!python /content/gdrive/My\\ Drive/InpaintingSinGAN/main_train.py --input_name image_5M.jpeg --input_dir Input/Inpainting --on_drive /content/gdrive/My\\ Drive/InpaintingSinGAN/ --mode inpainting --mask_name image_5M_mask.jpeg"
   ]
  },
  {
   "cell_type": "code",
   "execution_count": null,
   "metadata": {
    "colab": {
     "base_uri": "https://localhost:8080/"
    },
    "executionInfo": {
     "elapsed": 4465701,
     "status": "ok",
     "timestamp": 1610578376661,
     "user": {
      "displayName": "erreip trebe",
      "photoUrl": "",
      "userId": "15120267067522981901"
     },
     "user_tz": -60
    },
    "id": "-ILEDlewvlaL",
    "outputId": "73c11de5-e95f-43ed-ae69-ea2ecfb32527"
   },
   "outputs": [],
   "source": [
    "!python /content/gdrive/My\\ Drive/InpaintingSinGAN/main_train.py --input_name image_6M.jpeg --input_dir Input/Inpainting --on_drive /content/gdrive/My\\ Drive/InpaintingSinGAN/ --mode inpainting --mask_name image_6M_mask.jpeg --max_size 500 --not_cuda"
   ]
  },
  {
   "cell_type": "code",
   "execution_count": null,
   "metadata": {
    "id": "0icG6kC5wjQG"
   },
   "outputs": [],
   "source": [
    "!python /content/gdrive/My\\ Drive/InpaintingSinGAN/main_train.py --input_name image_7M.jpeg --input_dir Input/Inpainting --on_drive /content/gdrive/My\\ Drive/InpaintingSinGAN/ --mode inpainting --mask_name image_7M_mask.jpeg"
   ]
  },
  {
   "cell_type": "code",
   "execution_count": null,
   "metadata": {
    "id": "38QaFDznw7LO"
   },
   "outputs": [],
   "source": [
    "!python /content/gdrive/My\\ Drive/InpaintingSinGAN/main_train.py --input_name image_8M.jpeg --input_dir Input/Inpainting --on_drive /content/gdrive/My\\ Drive/InpaintingSinGAN/ --mode inpainting --mask_name image_8M_mask.jpeg --max_size 500"
   ]
  },
  {
   "cell_type": "code",
   "execution_count": null,
   "metadata": {
    "colab": {
     "base_uri": "https://localhost:8080/"
    },
    "executionInfo": {
     "elapsed": 4603,
     "status": "ok",
     "timestamp": 1610612569448,
     "user": {
      "displayName": "erreip trebe",
      "photoUrl": "",
      "userId": "15120267067522981901"
     },
     "user_tz": -60
    },
    "id": "4EGDOePI6BP8",
    "outputId": "9865f8b7-2b86-457f-af73-66a38edbda4f"
   },
   "outputs": [],
   "source": [
    "!python /content/gdrive/My\\ Drive/InpaintingSinGAN/inpainting.py --input_name image_6M.jpeg --input_dir Input/Inpainting --on_drive /content/gdrive/My\\ Drive/InpaintingSinGAN/ --mask_name image_6M_mask.jpeg  --inpainting_scale_start 1 --radius 15 --fill_method navier_stokes --not_cuda --max_size 500"
   ]
  }
 ],
 "metadata": {
  "accelerator": "GPU",
  "colab": {
   "authorship_tag": "ABX9TyP/XjsJxT+OU6Sl7MUcpQet",
   "collapsed_sections": [],
   "name": "Run.ipynb",
   "provenance": []
  },
  "kernelspec": {
   "display_name": "Python 3",
   "language": "python",
   "name": "python3"
  },
  "language_info": {
   "codemirror_mode": {
    "name": "ipython",
    "version": 3
   },
   "file_extension": ".py",
   "mimetype": "text/x-python",
   "name": "python",
   "nbconvert_exporter": "python",
   "pygments_lexer": "ipython3",
   "version": "3.6.9"
  }
 },
 "nbformat": 4,
 "nbformat_minor": 1
}
